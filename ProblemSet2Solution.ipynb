{
 "cells": [
  {
   "cell_type": "markdown",
   "metadata": {},
   "source": [
    "# Question1"
   ]
  },
  {
   "cell_type": "markdown",
   "metadata": {},
   "source": [
    "Consider the following Python module:\n",
    "\n",
    "a = 0\n",
    "\n",
    "def b():\n",
    "    global a\n",
    "    a = c(a)\n",
    "\n",
    "def c(a):\n",
    "    return a + 2\n",
    "\n",
    "After importing the module into the interpreter, you execute:\n",
    "\n",
    ">>>b()\n",
    ">>>b()\n",
    ">>>b()\n",
    ">>>a\n",
    "\n",
    "What value is displayed when the last expression (a) is evaluated? Explain your answer by indicating what happens in every executed statement.\n",
    "\n",
    "Answer:\n",
    "The value that will be displayed is 6. \n",
    "Intially a is assigned to 0. \n",
    "When the first b() is executed, function 'b' is called, inside the function the variable a's scope is changed to global and fuction c with a as an arguement is called. The function c returns 2 (0+2) and the value 2 is assigned to the variable a now. \n",
    "At the second b() execution starts and repeats the above execution process with a = 2 from the previous execution. Once the execution completes a value will be 4 now.\n",
    "When the third b() is executed, the same process as the first execution is done with a = 4 from the previous execution. The value of a will be 6.\n",
    "And finally when a is executed the value 6 will be printed."
   ]
  },
  {
   "cell_type": "markdown",
   "metadata": {},
   "source": [
    "# Question 2"
   ]
  },
  {
   "cell_type": "markdown",
   "metadata": {},
   "source": [
    "Function fileLength(), given to you, takes the name of a file as input and returns the length of the file:\n",
    "\n",
    ">>> fileLength('midterm.py')\n",
    "284\n",
    ">>> fileLength('idterm.py')\n",
    "Traceback (most recent call last):\n",
    "  File \"<pyshell#34>\", line 1, in <module>\n",
    "    fileLength('idterm.py')\n",
    "  File \"/Users/me/midterm.py\", line 3, in fileLength\n",
    "    infile = open(filename)\n",
    "FileNotFoundError: [Errno 2] No such file or directory: 'idterm.py'\n",
    "\n",
    "As shown above, if the file cannot be found by the interpreter or if it cannot be read as a text file, an exception will be raised. Modify function fileLength() so that a friendly message is printed instead:\n",
    "\n",
    ">>> fileLength('midterm.py')\n",
    "358\n",
    ">>> fileLength('idterm.py')\n",
    "File idterm.py not found.\n"
   ]
  },
  {
   "cell_type": "code",
   "execution_count": 2,
   "metadata": {},
   "outputs": [
    {
     "name": "stdout",
     "output_type": "stream",
     "text": [
      "714\n"
     ]
    }
   ],
   "source": [
    "#exception handler\n",
    "try:\n",
    "    fileLength('midterm.py')\n",
    "# if there occurs a error the below message is printed instead of the error message\n",
    "except:\n",
    "    print('File midterm.py not found')\n",
    "    \n",
    "def fileLength(file_name):\n",
    "    file = open(file_name)\n",
    "    contents = file.read()\n",
    "    file.close()\n",
    "    print(len(contents))"
   ]
  },
  {
   "cell_type": "code",
   "execution_count": 4,
   "metadata": {},
   "outputs": [
    {
     "name": "stdout",
     "output_type": "stream",
     "text": [
      "File idterm.py not found\n"
     ]
    }
   ],
   "source": [
    "#exception handler\n",
    "try:\n",
    "    fileLength('idterm.py')\n",
    "# if there occurs a error the below message is printed instead of the error message\n",
    "except:\n",
    "    print('File idterm.py not found')\n",
    "    \n",
    "def fileLength(file_name):\n",
    "    file = open(file_name)\n",
    "    contents = file.read()\n",
    "    file.close()\n",
    "    print(len(contents))"
   ]
  },
  {
   "cell_type": "markdown",
   "metadata": {},
   "source": [
    "# Question 3"
   ]
  },
  {
   "cell_type": "markdown",
   "metadata": {},
   "source": [
    "Write a class named Marsupial that can be used as shown below:\n",
    "\n",
    ">>> m = Marsupial()\n",
    ">>> m.put_in_pouch('doll')\n",
    ">>> m.put_in_pouch('firetruck')\n",
    ">>> m.put_in_pouch('kitten')\n",
    ">>> m.pouch_contents()\n",
    "['doll', 'firetruck', 'kitten']\n",
    "\n",
    "Now write a class named Kangaroo as a subclass of Marsupial that inherits all the attributes of Marsupial and also:\n",
    "a.\textends the Marsupial __init__ constructor to take, as input, the coordinates x and y of the Kangaroo object,\n",
    "b.\tsupports method jump that takes number values dx and dy as input and moves the kangaroo by dx units along the x-axis and by dy units along the y-axis, and\n",
    "c.\toverloads the __str__ operator so it behaves as shown below.\n",
    "\n",
    ">>> k = Kangaroo(0,0)\n",
    ">>> print(k)\n",
    "I am a Kangaroo located at coordinates (0,0)\n",
    ">>> k.put_in_pouch('doll')\n",
    ">>> k.put_in_pouch('firetruck')\n",
    ">>> k.put_in_pouch('kitten')\n",
    ">>> k.pouch_contents()\n",
    "['doll', 'firetruck', 'kitten']\n",
    ">>> k.jump(1,0)\n",
    ">>> k.jump(1,0)\n",
    ">>> k.jump(1,0)\n",
    ">>> print(k)\n",
    "I am a Kangaroo located at coordinates (3,0)\n"
   ]
  },
  {
   "cell_type": "code",
   "execution_count": 5,
   "metadata": {},
   "outputs": [
    {
     "data": {
      "text/plain": [
       "['doll', 'firetruck', 'kitten']"
      ]
     },
     "execution_count": 5,
     "metadata": {},
     "output_type": "execute_result"
    }
   ],
   "source": [
    "class Marsupial:\n",
    "    'represents things and animals'\n",
    "    def __init__(self):\n",
    "        'instantiates an empty list'\n",
    "        self.pouch_content = []\n",
    "    def put_in_pouch(self,contents):\n",
    "        'appends the list with the mentioned contents'\n",
    "        self.pouch_content.append(contents)\n",
    "    def pouch_contents(self):\n",
    "        'returns the list'\n",
    "        return self.pouch_content\n",
    "\n",
    "#calling the class\n",
    "m = Marsupial() \n",
    "m.put_in_pouch('doll') \n",
    "m.put_in_pouch('firetruck') \n",
    "m.put_in_pouch('kitten') \n",
    "m.pouch_contents()"
   ]
  },
  {
   "cell_type": "code",
   "execution_count": 6,
   "metadata": {},
   "outputs": [
    {
     "name": "stdout",
     "output_type": "stream",
     "text": [
      "I am a Kangaroo located at coordinates (0,0)\n",
      "['doll', 'firetruck', 'kitten']\n",
      "I am a Kangaroo located at coordinates (3,0)\n"
     ]
    }
   ],
   "source": [
    "class Kangaroo(Marsupial):\n",
    "    'sub class of Class Marsupial'\n",
    "    def __init__(self,x,y):\n",
    "        'initialize the coordinates with x and y and extends the super class __int__ constructor'\n",
    "        Marsupial.__init__(self)\n",
    "        self.x = x\n",
    "        self.y = y\n",
    "    def jump(self,dx,dy):\n",
    "        'change the x and y coordinates with dx and dy'\n",
    "        self.x += dx\n",
    "        self.y += dy\n",
    "    def __str__(self):\n",
    "        'prints the message'\n",
    "        return 'I am a Kangaroo located at coordinates ({},{})'.format(self.x,self.y)\n",
    "        \n",
    "#calling the class\n",
    "k = Kangaroo(0,0)\n",
    "print(k)\n",
    "\n",
    "k.put_in_pouch('doll')\n",
    "k.put_in_pouch('firetruck')\n",
    "k.put_in_pouch('kitten')\n",
    "print(k.pouch_contents())\n",
    "\n",
    "k.jump(1,0)\n",
    "k.jump(1,0)\n",
    "k.jump(1,0)\n",
    "print(k)\n"
   ]
  },
  {
   "cell_type": "markdown",
   "metadata": {},
   "source": [
    "# Question 4"
   ]
  },
  {
   "cell_type": "markdown",
   "metadata": {},
   "source": [
    "Implement a new GUI class App that combines user-defined tkinter widget classes Calculator and Mortgage displayed below: (This question can be done using a .py file)"
   ]
  },
  {
   "cell_type": "code",
   "execution_count": 27,
   "metadata": {},
   "outputs": [],
   "source": [
    "from tkinter import *\n",
    "\n",
    "class App:\n",
    "    'class  comprises Mortgage and Calculator'\n",
    "    def __init__(self, master):\n",
    "        'constructors of Mortgage and calculator class'\n",
    "        Mortgage. __init__(self,master)\n",
    "        Calculator. __init__(self,master)\n",
    "        \n",
    "class Mortgage:\n",
    "    'represents the mortgage part on the GUI'\n",
    "    def __init__(self, master):\n",
    "        'initialize the contents of the mortgage part with lables and entry of tkinter'\n",
    "        self.master = master\n",
    "        #creating frame and packing\n",
    "        leftBox = Frame(master)\n",
    "        leftBox.pack(side = LEFT)\n",
    "        \n",
    "        #Loan Amount Label\n",
    "        self.labelLa = Label(leftBox, padx= 5, text=\"Loan Amount\")\n",
    "        self.labelLa.grid(row= 2, column= 0,)\n",
    "        \n",
    "        #Interest Rate Label\n",
    "        self.labelIr = Label(leftBox,  padx= 5,text=\"Interest Rate\")\n",
    "        self.labelIr.grid(row= 3, column= 0)\n",
    "        \n",
    "        #Loan Term Label\n",
    "        self.labelLt = Label(leftBox,  padx= 5,text=\"Loan Terms\")\n",
    "        self.labelLt.grid(row= 4, column= 0)\n",
    "        \n",
    "        #Compute mortgage Button\n",
    "        self.buttonCm = Button(leftBox, padx = 5, text =\"Compute Mortgage\")\n",
    "        self.buttonCm.grid(row = 5, column = 0)\n",
    "        \n",
    "        #Loan Amount textbox\n",
    "        self.entryLa = Entry(leftBox)\n",
    "        self.entryLa.grid(row =2, column = 2)\n",
    "        \n",
    "        #Interest Rate textbox\n",
    "        self.entryIr = Entry(leftBox)\n",
    "        self.entryIr.grid(row =3, column = 2)\n",
    "        \n",
    "        #Loan Term textbox\n",
    "        self.entryLt = Entry(leftBox)\n",
    "        self.entryLt.grid(row =4, column = 2)\n",
    "        \n",
    "        #Compute Mortgage textbox\n",
    "        self.entryCm = Entry(leftBox)\n",
    "        self.entryCm.grid(row =5, column = 2)\n",
    "\n",
    "\n",
    "class Calculator:\n",
    "    'represents the claculator part'\n",
    "    def __init__(self, master):\n",
    "        'initialize the contents of the calculator with lable and entry'\n",
    "        self.master = master\n",
    "        #creating frame and packing\n",
    "        rightBox = Frame(master)\n",
    "        rightBox.pack(side=RIGHT)\n",
    "        \n",
    "        #Calculator textbox\n",
    "        self.entryCt = Entry(rightBox)\n",
    "        self.entryCt.grid(row =0, column = 0,columnspan=5)\n",
    "       \n",
    "        #Calculator\n",
    "        self.labels = [['MC', 'M+', 'M-', 'MR'],\n",
    "                    ['C', '\\u221A', 'x\\u00b2', '+'],\n",
    "                    ['7', '8', '9', '-'],\n",
    "                    ['6', '5', '4','*'],\n",
    "                    ['3', '2', '1', '/'],\n",
    "                    ['0', '.', '+-','=']]\n",
    "        #arranging the calculator as buttons\n",
    "        for r in range(6):\n",
    "            for c in range(4):\n",
    "                self.button = Button(rightBox, padx=3, pady = 3, width = 2, text = self.labels[r][c])\n",
    "                self.button. grid (row= r+1, column = c+1)\n",
    "\n",
    "                \n",
    "root = Tk()\n",
    "#Calling Class App\n",
    "my_gui = App(root)\n",
    "\n",
    "root.mainloop()"
   ]
  },
  {
   "cell_type": "markdown",
   "metadata": {},
   "source": [
    "# Question 5"
   ]
  },
  {
   "cell_type": "markdown",
   "metadata": {},
   "source": [
    "Write function collatz() that takes a positive integer x as input and prints the Collatz sequence starting at x. A Collatz sequence is obtained by repeatedly applying this rule to the previous number x in the sequence:\n",
    " \n",
    "x = {█(  x/2                    if x is even@3x+1               if x is odd)┤\n",
    "\n",
    "Your function should stop when the sequence gets to number 1. Your implementation must be recursive, without any loops.\n"
   ]
  },
  {
   "cell_type": "code",
   "execution_count": 7,
   "metadata": {},
   "outputs": [
    {
     "name": "stdout",
     "output_type": "stream",
     "text": [
      "Enter a positive integer:10\n",
      "10\n",
      "5\n",
      "16\n",
      "8\n",
      "4\n",
      "2\n",
      "1\n"
     ]
    }
   ],
   "source": [
    "#function\n",
    "def colltaz(x):\n",
    "    if (x == 1):\n",
    "        print(int(x))\n",
    "    elif (x%2 == 0):\n",
    "        print (int(x))\n",
    "        x = x/2\n",
    "        colltaz(x)   #recursion\n",
    "    else:\n",
    "        print (int(x))\n",
    "        x = (3*x) + 1\n",
    "        colltaz(x)   #recursion\n",
    "\n",
    "#getting input\n",
    "n = eval(input('Enter a positive integer:'))\n",
    "#function call\n",
    "colltaz(n)"
   ]
  },
  {
   "cell_type": "markdown",
   "metadata": {},
   "source": [
    "# Question 6"
   ]
  },
  {
   "cell_type": "markdown",
   "metadata": {},
   "source": [
    "Write a recursive method binary() that takes a non-negative integer n and prints the binary representation of integer n."
   ]
  },
  {
   "cell_type": "code",
   "execution_count": 8,
   "metadata": {},
   "outputs": [
    {
     "name": "stdout",
     "output_type": "stream",
     "text": [
      "Enter a positive integer:9\n"
     ]
    },
    {
     "data": {
      "text/plain": [
       "'1001'"
      ]
     },
     "execution_count": 8,
     "metadata": {},
     "output_type": "execute_result"
    }
   ],
   "source": [
    "#intializing a variable s \n",
    "s = ''\n",
    "#function\n",
    "def Binary(x):\n",
    "    global s # changing the variable scope\n",
    "    if (x<2):\n",
    "        s += str(x)     #appending the binary values for displaying\n",
    "        return s\n",
    "        \n",
    "    else:\n",
    "        s += str(x%2)      #appending the binary values for displaying\n",
    "        Binary(int(x/2))   #recursion\n",
    "        return s\n",
    "    \n",
    "#getting input\n",
    "n = eval(input('Enter a positive integer:'))\n",
    "#function call\n",
    "Binary(n)"
   ]
  },
  {
   "cell_type": "markdown",
   "metadata": {},
   "source": [
    "# Question 7"
   ]
  },
  {
   "cell_type": "markdown",
   "metadata": {},
   "source": [
    "Implement a class named HeadingParser that can be used to parse an HTML document, and retrieve and print all the headings in the document. You should implement your class as a subclass of HTMLParser, defined in Standard Library module html.parser. When fed a string containing HTML code, your class should print the headings, one per line and in the order in which they appear in the document. Each heading should be indented as follows: an h1 heading should have indentation 0, and h2 heading should have indentation 1, etc. Test your implementation using w3c.html."
   ]
  },
  {
   "cell_type": "code",
   "execution_count": 31,
   "metadata": {},
   "outputs": [
    {
     "name": "stdout",
     "output_type": "stream",
     "text": [
      " W3C Mission\n",
      " \n",
      "\n",
      "  Principles\n",
      "  \n",
      "\n"
     ]
    }
   ],
   "source": [
    "from html.parser import HTMLParser\n",
    "\n",
    "infile = open('W3C.html')\n",
    "content = infile.read()\n",
    "infile.close()\n",
    "\n",
    "\n",
    "class HeadingParser(HTMLParser):\n",
    "    'HTML doc parser that prints the headings intended'\n",
    "    def __int__(self):\n",
    "        'initializes the parser'\n",
    "        HTMLParser.__init__(self)\n",
    "        self.tag = ' '\n",
    "        \n",
    "    def handle_starttag(self, tag, attrs):\n",
    "        'stores the tag name'\n",
    "        self.tag = tag   \n",
    "        \n",
    "    def handle_data(self, data):\n",
    "        'check the tag with the condition and prints the appropriate data with indentation'\n",
    "        if self.tag == 'h1':\n",
    "            self.indent = 0\n",
    "            print ('{} {}'. format(self.indent*' ', data))   \n",
    "            \n",
    "        elif self.tag == 'h2':\n",
    "            self.indent = 1\n",
    "            print ('{} {}'. format(self.indent*' ', data))\n",
    "            \n",
    "        elif self.tag == 'h3':\n",
    "            self.indent = 2\n",
    "            print ('{} {}'. format(self.indent*' ', data))\n",
    "           \n",
    "        elif self.tag == 'h4':\n",
    "            self.indent = 3\n",
    "            print ('{} {}'. format(self.indent*' ', data))\n",
    "            \n",
    "        elif self.tag == 'h5':\n",
    "            self.indent = 4\n",
    "            print ('{} {}'. format(self.indent*' ', data))\n",
    "           \n",
    "        elif self.tag == 'h6':\n",
    "            self.indent = 5\n",
    "            print ('{} {}'. format(self.indent*' ', data))\n",
    "           \n",
    "            \n",
    "            \n",
    "\n",
    "hp = HeadingParser()\n",
    "hp.feed(content)"
   ]
  },
  {
   "cell_type": "markdown",
   "metadata": {},
   "source": [
    "# Question 8"
   ]
  },
  {
   "cell_type": "markdown",
   "metadata": {},
   "source": [
    "Implement recursive function webdir() that takes as input: a URL (as a string) and non-negative integers depth and indent. Your function should visit every web page reachable from the starting URL web page in depth clicks or less, and print each web page's URL. As shown below, indentation, specified by indent,  should be used to indicate the depth of a URL."
   ]
  },
  {
   "cell_type": "code",
   "execution_count": 32,
   "metadata": {},
   "outputs": [
    {
     "name": "stdout",
     "output_type": "stream",
     "text": [
      " https://www.tutorialspoint.com/python/python_tuples.htm\n",
      "  https://www.tutorialspoint.com/index.htm\n",
      "  https://www.tutorialspoint.com/current_affairs.htm\n",
      "  https://www.tutorialspoint.com/python/python_overview.htm\n",
      "  http://tpcg.io/ZnuXed\n",
      "  http://tpcg.io/QjdQHf\n",
      "  http://tpcg.io/ANv9OB\n",
      "  http://tpcg.io/TO4E3c\n",
      "  https://www.tutorialspoint.com/python/tuple_cmp.htm\n",
      "  https://www.tutorialspoint.com/python/tuple_len.htm\n",
      "  https://www.tutorialspoint.com/python/tuple_max.htm\n",
      "  https://www.tutorialspoint.com/python/tuple_min.htm\n",
      "  https://www.tutorialspoint.com/python/tuple_tuple.htm\n"
     ]
    }
   ],
   "source": [
    "from urllib.request import urlopen\n",
    "def analyze(url):\n",
    "    'returns list of http links in url, in absolute format'\n",
    "    # obtain links in the web page\n",
    "    content = urlopen(url).read().decode()\n",
    "    collector = Collector(url)\n",
    "    collector.feed(content)\n",
    "    urls = collector.getLinks()          # get list of links\n",
    "\n",
    "    return urls\n",
    "\n",
    "\n",
    "\n",
    "from urllib.parse import urljoin\n",
    "from html.parser import HTMLParser\n",
    "class Collector(HTMLParser):\n",
    "    'collects hyperlink URLs into a list'\n",
    "    \n",
    "    def __init__(self, url):\n",
    "        'initializes parser, the url, and a list'\n",
    "        HTMLParser.__init__(self)\n",
    "        self.url = url\n",
    "        self.links = []\n",
    "        \n",
    "    def handle_starttag(self, tag, attrs):\n",
    "        'collects hyperlink URLs in their absolute format'\n",
    "        if tag == 'a':\n",
    "            for attr in attrs:\n",
    "                if attr[0] == 'href':\n",
    "                    # construct absolute URL\n",
    "                    absolute = urljoin(self.url, attr[1])\n",
    "                    if absolute[:4] == 'http': # collect HTTP URLs\n",
    "                        self.links.append(absolute)\n",
    "                        \n",
    "    def getLinks(self):\n",
    "        'returns hyperlinks URLs in their absolute format'\n",
    "        return self.links\n",
    "\n",
    "\n",
    "visited = set() # initialize \n",
    "def webdir(url,depth,indent):\n",
    "    # add url to set of visited pages\n",
    "    global visited\n",
    "    visited.add(url)\n",
    "\n",
    "    if depth == 0:\n",
    "        return\n",
    "    #print('{} {}'. format(indent*' ', url))\n",
    "    print(' '*indent, url)\n",
    "    indent +=1\n",
    "    depth -=1\n",
    "    \n",
    "    # analyze() returns a list of hyperlink URLs in web page url \n",
    "    links = analyze(url)\n",
    "    \n",
    "    # recursively continue webdir from every link in links\n",
    "    for link in links:\n",
    "        # follow link only if not visited\n",
    "        if link not in visited:\n",
    "            try:\n",
    "                webdir(link,depth,indent)\n",
    "            except:\n",
    "                pass\n",
    "\n",
    "\n",
    "webdir('https://www.tutorialspoint.com/python/python_tuples.htm', 2, 0)\n"
   ]
  },
  {
   "cell_type": "markdown",
   "metadata": {},
   "source": [
    "# Question 9"
   ]
  },
  {
   "cell_type": "markdown",
   "metadata": {},
   "source": [
    "Write SQL queries on the below database table that return: \n",
    "a)\tAll the temperature data.\n",
    "            SELECT Temperature(C) FROM table"
   ]
  },
  {
   "cell_type": "markdown",
   "metadata": {},
   "source": [
    "b)\tAll the cities, but without repetition.\n",
    "            SELECT DISTINCT City FROM table"
   ]
  },
  {
   "cell_type": "markdown",
   "metadata": {},
   "source": [
    "c)\tAll the records for India.\n",
    "            SELECT * FROM table WHERE Country = 'India'"
   ]
  },
  {
   "cell_type": "markdown",
   "metadata": {},
   "source": [
    "d)\tAll the Fall records.\n",
    "            SELECT * FROM table WHERE Season = 'Fall'"
   ]
  },
  {
   "cell_type": "markdown",
   "metadata": {},
   "source": [
    "e)\tThe city, country, and season for which the average rainfall is between 200 and 400 millimeters.\n",
    "            SELECT City, Country, Season FROM table WHERE Rainfall(MM) BETWEEN 200 AND 400"
   ]
  },
  {
   "cell_type": "markdown",
   "metadata": {},
   "source": [
    "f)\tThe city and country for which the average Fall temperature is above 20 degrees, in increasing temperature order.\n",
    "            SELECT City, Country FROM table WHERE Season = 'Fall'  AND Temperature(C) > 20 ORDERBY Temperature(C)"
   ]
  },
  {
   "cell_type": "markdown",
   "metadata": {},
   "source": [
    "g)\tThe total annual rainfall for Cairo.\n",
    "               SELECT SUM(Rainfall(MM)) FROM table WHERE City = 'Cairo'"
   ]
  },
  {
   "cell_type": "markdown",
   "metadata": {},
   "source": [
    "h)\tThe total rainfall for each season.\n",
    "                SELECT Season SUM(Rainfall(MM)) FROM table GROUPBY Season "
   ]
  },
  {
   "cell_type": "markdown",
   "metadata": {},
   "source": [
    "# Question 10"
   ]
  },
  {
   "cell_type": "markdown",
   "metadata": {},
   "source": [
    "Suppose list words is defined as follows:\n",
    ">>> words = ['The', 'quick', 'brown', 'fox', 'jumps', 'over', 'the', 'lazy', 'dog']\n",
    "Write list comprehension expressions that use list words and generate the following lists:\n",
    "a)\t['THE', 'QUICK', 'BROWN', 'FOX', 'JUMPS', 'OVER', 'THE', 'LAZY', 'DOG']\n"
   ]
  },
  {
   "cell_type": "code",
   "execution_count": 9,
   "metadata": {},
   "outputs": [
    {
     "name": "stdout",
     "output_type": "stream",
     "text": [
      "['THE', 'QUICK', 'BROWN', 'FOX', 'JUMPS', 'OVER', 'THE', 'LAZY', 'DOG']\n"
     ]
    }
   ],
   "source": [
    "words = ['The', 'quick', 'brown', 'fox', 'jumps', 'over', 'the', 'lazy', 'dog']\n",
    "\n",
    "upper = [word.upper() for word in words]\n",
    "print(upper)"
   ]
  },
  {
   "cell_type": "markdown",
   "metadata": {},
   "source": [
    "b)\t['the', 'quick', 'brown', 'fox', 'jumps', 'over', 'the', 'lazy', 'dog']"
   ]
  },
  {
   "cell_type": "code",
   "execution_count": 10,
   "metadata": {},
   "outputs": [
    {
     "name": "stdout",
     "output_type": "stream",
     "text": [
      "['the', 'quick', 'brown', 'fox', 'jumps', 'over', 'the', 'lazy', 'dog']\n"
     ]
    }
   ],
   "source": [
    "lower = [word.lower() for word in words]\n",
    "print(lower)"
   ]
  },
  {
   "cell_type": "markdown",
   "metadata": {},
   "source": [
    "c)\t[3, 5, 5, 3, 5, 4, 3, 4, 3] (the list of lengths of words in list words)."
   ]
  },
  {
   "cell_type": "code",
   "execution_count": 11,
   "metadata": {},
   "outputs": [
    {
     "name": "stdout",
     "output_type": "stream",
     "text": [
      "[3, 5, 5, 3, 5, 4, 3, 4, 3]\n"
     ]
    }
   ],
   "source": [
    "length = [len(word) for word in words]\n",
    "print(length)"
   ]
  },
  {
   "cell_type": "markdown",
   "metadata": {},
   "source": [
    "d)\t[['THE', 'the', 3], ['QUICK', 'quick', 5], ['BROWN', 'brown', 5], ['FOX', 'fox', 3], ['JUMPS', 'jumps', 5], ['OVER', 'over', 4], ['THE', 'the', 3], ['LAZY', 'lazy', 4], ['DOG', 'dog', 3]] (the list containing a list for every word of list words, where each list contains the word in uppercase and lowercase and the length of the word.)"
   ]
  },
  {
   "cell_type": "code",
   "execution_count": 12,
   "metadata": {},
   "outputs": [
    {
     "name": "stdout",
     "output_type": "stream",
     "text": [
      "[['THE', 'the', 3], ['QUICK', 'quick', 5], ['BROWN', 'brown', 5], ['FOX', 'fox', 3], ['JUMPS', 'jumps', 5], ['OVER', 'over', 4], ['THE', 'the', 3], ['LAZY', 'lazy', 4], ['DOG', 'dog', 3]]\n"
     ]
    }
   ],
   "source": [
    "combineList = [[word.upper(), word.lower(), len(word)] for word in words]\n",
    "print(combineList)"
   ]
  },
  {
   "cell_type": "markdown",
   "metadata": {},
   "source": [
    "e)\t['The', 'quick', 'brown', 'fox', 'jumps', 'over', 'the', 'lazy', 'dog'] (the list of words in list words containing 4 or more characters.)"
   ]
  },
  {
   "cell_type": "code",
   "execution_count": 13,
   "metadata": {},
   "outputs": [
    {
     "name": "stdout",
     "output_type": "stream",
     "text": [
      "['quick', 'brown', 'jumps', 'over', 'lazy']\n"
     ]
    }
   ],
   "source": [
    "wordsFour = [word for word in words if len(word) >= 4]\n",
    "print(wordsFour)"
   ]
  },
  {
   "cell_type": "code",
   "execution_count": null,
   "metadata": {},
   "outputs": [],
   "source": []
  }
 ],
 "metadata": {
  "kernelspec": {
   "display_name": "Python 3",
   "language": "python",
   "name": "python3"
  },
  "language_info": {
   "codemirror_mode": {
    "name": "ipython",
    "version": 3
   },
   "file_extension": ".py",
   "mimetype": "text/x-python",
   "name": "python",
   "nbconvert_exporter": "python",
   "pygments_lexer": "ipython3",
   "version": "3.7.4"
  }
 },
 "nbformat": 4,
 "nbformat_minor": 2
}
